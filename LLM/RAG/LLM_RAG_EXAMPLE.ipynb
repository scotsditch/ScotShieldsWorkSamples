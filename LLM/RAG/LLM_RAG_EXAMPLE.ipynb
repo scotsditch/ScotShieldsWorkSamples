{
 "cells": [
  {
   "cell_type": "code",
   "execution_count": 3,
   "id": "pleasant-credits",
   "metadata": {},
   "outputs": [],
   "source": [
    "from config import api_key\n",
    "\n",
    "apikey=api_key\n",
    "\n",
    "import os\n",
    "\n",
    "os.environ['OPENAI_API_KEY'] = apikey\n"
   ]
  },
  {
   "cell_type": "markdown",
   "id": "animal-cheese",
   "metadata": {},
   "source": [
    "### RAG PROCESS EXAMPLE"
   ]
  },
  {
   "cell_type": "code",
   "execution_count": 46,
   "id": "boring-crossing",
   "metadata": {},
   "outputs": [],
   "source": [
    "# creating index from corpus\n",
    "\n",
    "\n",
    "# Load data into 'Documents' a custom type by LlamaIndex\n",
    "from llama_index import SimpleDirectoryReader\n",
    "\n",
    "documents = SimpleDirectoryReader('./data').load_data()\n",
    "\n",
    "\n",
    "# create vector store\n",
    "from llama_index import GPTVectorStoreIndex\n",
    "index = GPTVectorStoreIndex.from_documents(documents)\n",
    "\n",
    "saved_context_dict=index.storage_context.to_dict()\n",
    "\n",
    "\n",
    "# saving index object to reduce cost when querying\n",
    "import json\n",
    "\n",
    "# Serialize data into file:\n",
    "json.dump( saved_context_dict, open( \"recruiter_storage_context_dict.json\", 'w' ) )\n",
    "\n"
   ]
  },
  {
   "cell_type": "markdown",
   "id": "fancy-orlando",
   "metadata": {},
   "source": [
    "### Prompt engineering\n"
   ]
  },
  {
   "cell_type": "code",
   "execution_count": 1,
   "id": "adjusted-vitamin",
   "metadata": {},
   "outputs": [],
   "source": [
    "prompt_submit1=\"\"\"Please return the email title of all emails with positions containing the term data scientist, that have been sent to job seeker Scot Shields. Please return them as a quoted comma separated list.\"\"\""
   ]
  },
  {
   "cell_type": "code",
   "execution_count": 2,
   "id": "unable-james",
   "metadata": {},
   "outputs": [],
   "source": [
    "def get_response(api_key,context_dict,prompt_submit):\n",
    "    \n",
    "    # load saved context\n",
    "\n",
    "    import os\n",
    "\n",
    "\n",
    "    os.environ['OPENAI_API_KEY'] = personal_api_key\n",
    "\n",
    "\n",
    "    # using previously saved index\n",
    "    import json\n",
    "\n",
    "    saved_context=json.load( open(context_dict) )\n",
    "\n",
    "    from llama_index import StorageContext, load_index_from_storage\n",
    "\n",
    "    # rebuild storage context\n",
    "\n",
    "    storage_context=StorageContext.from_dict(saved_context)    \n",
    "\n",
    "    stored_index=load_index_from_storage(storage_context)\n",
    "\n",
    "\n",
    "    query_engine = stored_index.as_query_engine()\n",
    "    response = query_engine.query(prompt_submit)\n",
    "    \n",
    "    return response"
   ]
  },
  {
   "cell_type": "code",
   "execution_count": 5,
   "id": "temporal-stream",
   "metadata": {},
   "outputs": [
    {
     "name": "stdout",
     "output_type": "stream",
     "text": [
      "\n",
      "\"Data Scientist - Healthcare Client experience || Seattle, WA and Boston, MA (onsite)\", \"Lead Data Scientist - O'Fallon, MO (Hybrid)\", \"Urgent || Data Scientist/Engineer || Location - Las Vegas, NV\"\n"
     ]
    }
   ],
   "source": [
    "LLM_response=get_response(api_key= apikey,\n",
    "                          context_dict=\"recruiter_storage_context_dict.json\",\n",
    "                          prompt_submit=prompt_submit1)\n",
    "\n",
    "print(LLM_response)"
   ]
  },
  {
   "cell_type": "code",
   "execution_count": null,
   "id": "matched-castle",
   "metadata": {},
   "outputs": [],
   "source": []
  }
 ],
 "metadata": {
  "kernelspec": {
   "display_name": "Python [conda env:new_llm]",
   "language": "python",
   "name": "conda-env-new_llm-py"
  },
  "language_info": {
   "codemirror_mode": {
    "name": "ipython",
    "version": 3
   },
   "file_extension": ".py",
   "mimetype": "text/x-python",
   "name": "python",
   "nbconvert_exporter": "python",
   "pygments_lexer": "ipython3",
   "version": "3.10.12"
  }
 },
 "nbformat": 4,
 "nbformat_minor": 5
}
