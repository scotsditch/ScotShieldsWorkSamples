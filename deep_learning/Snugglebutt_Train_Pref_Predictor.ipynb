{
 "cells": [
  {
   "cell_type": "code",
   "execution_count": null,
   "metadata": {
    "colab": {
     "autoexec": {
      "startup": false,
      "wait_interval": 0
     }
    },
    "colab_type": "code",
    "id": "AIe0598nTf0m"
   },
   "outputs": [],
   "source": [
    "import sys\n",
    "import math\n",
    "import random\n",
    "import time\n",
    "from PIL import Image\n",
    "from multiprocessing import Queue\n",
    "import numpy as np\n",
    "import threading\n",
    "from io import BytesIO\n",
    "import tensorflow as tf\n",
    "# import tensorflow as tf\n",
    "\n",
    "\n",
    "import tensorflow.compat.v1 as tf\n",
    "tf.disable_v2_behavior() \n",
    "\n",
    "\n",
    "from tensorflow.compat.v1 import ConfigProto\n",
    "from tensorflow.compat.v1 import InteractiveSession\n",
    "\n",
    "config = ConfigProto()\n",
    "config.gpu_options.allow_growth = True\n",
    "session = InteractiveSession(config=config)\n"
   ]
  },
  {
   "cell_type": "code",
   "execution_count": null,
   "metadata": {
    "colab": {
     "autoexec": {
      "startup": false,
      "wait_interval": 0
     },
     "base_uri": "https://localhost:8080/",
     "height": 34
    },
    "colab_type": "code",
    "executionInfo": {
     "elapsed": 1041,
     "status": "ok",
     "timestamp": 1532552173542,
     "user": {
      "displayName": "Scot Shields Jr.",
      "photoUrl": "https://lh3.googleusercontent.com/a/default-user=s128",
      "userId": "103896669029024009118"
     },
     "user_tz": 420
    },
    "id": "1Z_CKTm0wQKn",
    "outputId": "6af14640-16e5-4c9a-f5dc-4bec87e3d6d4"
   },
   "outputs": [],
   "source": [
    "# checking if connected to gpu\n",
    "\n",
    "device_name = tf.test.gpu_device_name()\n",
    "if device_name != '/device:GPU:0':\n",
    "  raise SystemError('GPU device not found')\n",
    "print('Found GPU at: {}'.format(device_name))"
   ]
  },
  {
   "cell_type": "code",
   "execution_count": null,
   "metadata": {
    "colab": {
     "autoexec": {
      "startup": false,
      "wait_interval": 0
     },
     "base_uri": "https://localhost:8080/",
     "height": 224
    },
    "colab_type": "code",
    "executionInfo": {
     "elapsed": 187694,
     "status": "ok",
     "timestamp": 1532558982898,
     "user": {
      "displayName": "Scot Shields Jr.",
      "photoUrl": "https://lh3.googleusercontent.com/a/default-user=s128",
      "userId": "103896669029024009118"
     },
     "user_tz": 420
    },
    "id": "F7DihcCegXCY",
    "outputId": "107bf7f8-cfda-4191-84b2-7eb08e5b5e98"
   },
   "outputs": [],
   "source": [
    "# downloading data to notebook directory\n",
    "\n",
    "# !wget http://cseweb.ucsd.edu/~wckang/DVBPR/AmazonFashion6ImgPartitioned.npy"
   ]
  },
  {
   "cell_type": "code",
   "execution_count": null,
   "metadata": {
    "colab": {
     "autoexec": {
      "startup": false,
      "wait_interval": 0
     }
    },
    "colab_type": "code",
    "id": "PsyLhqmITf0q"
   },
   "outputs": [],
   "source": [
    "# dataset_name = 'AmazonFashion6ImgPartitioned.npy'\n",
    "\n",
    "# dataset_name = '/home/scotsditch/stuff/scotsditch_storage/dvbpr/DVBPR/AmazonFashion6ImgPartitioned.npy'\n",
    "\n",
    "dataset_name = '/home/scotsditch/stuff/scotsditch_storage/dvbpr/snugglebutt/jen_rate/AmazonFashion6ImgPartitioned.npy'"
   ]
  },
  {
   "cell_type": "code",
   "execution_count": null,
   "metadata": {
    "colab": {
     "autoexec": {
      "startup": false,
      "wait_interval": 0
     }
    },
    "colab_type": "code",
    "id": "dkx0u_iQTf0s"
   },
   "outputs": [],
   "source": [
    "#Hyper-prameters\n",
    "K = 100 # Latent dimensionality\n",
    "lambda1 = 0.001 # Weight decay\n",
    "lambda2 = 1.0 # Regularizer for theta_u\n",
    "learning_rate = 1e-4\n",
    "training_epoch = 20\n",
    "batch_size = 128\n",
    "dropout = 0.5 # Dropout, probability to keep units\n",
    "numldprocess=4 # multi-threading for loading images"
   ]
  },
  {
   "cell_type": "code",
   "execution_count": null,
   "metadata": {
    "colab": {
     "autoexec": {
      "startup": false,
      "wait_interval": 0
     }
    },
    "colab_type": "code",
    "id": "CJmJlvmrkcbs"
   },
   "outputs": [],
   "source": []
  },
  {
   "cell_type": "code",
   "execution_count": null,
   "metadata": {
    "colab": {
     "autoexec": {
      "startup": false,
      "wait_interval": 0
     }
    },
    "colab_type": "code",
    "id": "I9mxWV2pTf0v"
   },
   "outputs": [],
   "source": [
    "dataset = np.load(dataset_name, encoding='bytes',allow_pickle=True)"
   ]
  },
  {
   "cell_type": "code",
   "execution_count": null,
   "metadata": {
    "colab": {
     "autoexec": {
      "startup": false,
      "wait_interval": 0
     }
    },
    "colab_type": "code",
    "id": "AaJpg7UMTf0y"
   },
   "outputs": [],
   "source": [
    "[user_train, user_validation, user_test, Item, usernum, itemnum] = dataset"
   ]
  },
  {
   "cell_type": "markdown",
   "metadata": {
    "colab_type": "text",
    "id": "qJh7hdstTf00"
   },
   "source": [
    "## Data Exploration:"
   ]
  },
  {
   "cell_type": "code",
   "execution_count": null,
   "metadata": {
    "colab": {
     "autoexec": {
      "startup": false,
      "wait_interval": 0
     },
     "base_uri": "https://localhost:8080/",
     "height": 119
    },
    "colab_type": "code",
    "executionInfo": {
     "elapsed": 303,
     "status": "ok",
     "timestamp": 1532560089792,
     "user": {
      "displayName": "Scot Shields Jr.",
      "photoUrl": "https://lh3.googleusercontent.com/a/default-user=s128",
      "userId": "103896669029024009118"
     },
     "user_tz": 420
    },
    "id": "zrIg2tc0Tf00",
    "outputId": "27134536-5ce8-4915-fd16-9c343e83a7e1"
   },
   "outputs": [],
   "source": [
    "print('length user_train: {}'.format(len(user_train)))\n",
    "print('length user_validation: {}'.format(len(user_validation)))\n",
    "print('length user_test: {}'.format(len(user_test)))\n",
    "print('length Item: {}'.format(len(Item)))\n",
    "print('usernum: {}'.format(usernum))\n",
    "print('itemnum: {}'.format(itemnum))"
   ]
  },
  {
   "cell_type": "code",
   "execution_count": null,
   "metadata": {
    "colab": {
     "autoexec": {
      "startup": false,
      "wait_interval": 0
     }
    },
    "colab_type": "code",
    "id": "havqi_b_Tf06",
    "outputId": "a58ce083-a3c3-4f01-fb6c-fe428d17180e"
   },
   "outputs": [],
   "source": [
    "print('user_train')\n",
    "display(user_train[0])\n",
    "\n",
    "print('user_validation')\n",
    "display(user_validation[0])\n",
    "\n",
    "print('user_test')\n",
    "display(user_test[0])\n",
    "\n",
    "print('Item')\n",
    "display(Item[0])\n"
   ]
  },
  {
   "cell_type": "markdown",
   "metadata": {
    "colab_type": "text",
    "id": "oGSaOTWwTf0_"
   },
   "source": [
    "#### subsetting data:"
   ]
  },
  {
   "cell_type": "code",
   "execution_count": null,
   "metadata": {
    "colab": {
     "autoexec": {
      "startup": false,
      "wait_interval": 0
     }
    },
    "colab_type": "code",
    "id": "vYHhvmhvTf1A"
   },
   "outputs": [],
   "source": [
    "# sub_len=20000\n",
    "\n",
    "sub_len=200\n",
    "user_train2={i:user_train[i] for i in range(sub_len)}\n",
    "user_validation2={i:user_validation[i] for i in range(sub_len)}\n",
    "user_test2={i:user_test[i] for i in range(sub_len)}\n",
    "\n",
    "usernum2=int(sub_len)"
   ]
  },
  {
   "cell_type": "code",
   "execution_count": null,
   "metadata": {
    "colab": {
     "autoexec": {
      "startup": false,
      "wait_interval": 0
     }
    },
    "colab_type": "code",
    "id": "NEsgw1AbTf1F"
   },
   "outputs": [],
   "source": [
    "# subset image Item list\n",
    "\n",
    "Item2={i:Item[i] for i in range(100000)}\n",
    "\n",
    "# Item2={i:Item[i] for i in range(1000)}\n",
    "itemnum2=len(Item2)"
   ]
  },
  {
   "cell_type": "code",
   "execution_count": null,
   "metadata": {
    "colab": {
     "autoexec": {
      "startup": false,
      "wait_interval": 0
     },
     "base_uri": "https://localhost:8080/",
     "height": 34
    },
    "colab_type": "code",
    "executionInfo": {
     "elapsed": 396,
     "status": "ok",
     "timestamp": 1532560290341,
     "user": {
      "displayName": "Scot Shields Jr.",
      "photoUrl": "https://lh3.googleusercontent.com/a/default-user=s128",
      "userId": "103896669029024009118"
     },
     "user_tz": 420
    },
    "id": "wfBOOa1gTf1H",
    "outputId": "0fe84d83-48b2-43b2-be74-fe3e480d37b1"
   },
   "outputs": [],
   "source": [
    "print(itemnum2)"
   ]
  },
  {
   "cell_type": "code",
   "execution_count": null,
   "metadata": {
    "colab": {
     "autoexec": {
      "startup": false,
      "wait_interval": 0
     },
     "base_uri": "https://localhost:8080/",
     "height": 119
    },
    "colab_type": "code",
    "executionInfo": {
     "elapsed": 293,
     "status": "ok",
     "timestamp": 1532560295996,
     "user": {
      "displayName": "Scot Shields Jr.",
      "photoUrl": "https://lh3.googleusercontent.com/a/default-user=s128",
      "userId": "103896669029024009118"
     },
     "user_tz": 420
    },
    "id": "NeoiGCi4Tf1L",
    "outputId": "a5603281-aee7-40a3-f6e8-f43db98e477b"
   },
   "outputs": [],
   "source": [
    "print('length user_train2: {}'.format(len(user_train2)))\n",
    "print('length user_validation2: {}'.format(len(user_validation2)))\n",
    "print('length user_test2: {}'.format(len(user_test2)))\n",
    "print('length Item2: {}'.format(len(Item2)))\n",
    "print('usernum2: {}'.format(usernum2))\n",
    "print('itemnum2: {}'.format(itemnum2))"
   ]
  },
  {
   "cell_type": "code",
   "execution_count": null,
   "metadata": {
    "colab": {
     "autoexec": {
      "startup": false,
      "wait_interval": 0
     }
    },
    "colab_type": "code",
    "id": "qA60zJRRTf1N"
   },
   "outputs": [],
   "source": [
    "# reset variables for functions below\n",
    "\n",
    "user_train=user_train2\n",
    "user_validation=user_validation2\n",
    "user_test=user_test2\n",
    "Item=Item2\n",
    "usernum=usernum2\n",
    "itemnum=itemnum2"
   ]
  },
  {
   "cell_type": "markdown",
   "metadata": {
    "colab_type": "text",
    "id": "RthqowLuTf1R"
   },
   "source": [
    "## functions:"
   ]
  },
  {
   "cell_type": "code",
   "execution_count": null,
   "metadata": {
    "colab": {
     "autoexec": {
      "startup": false,
      "wait_interval": 0
     }
    },
    "colab_type": "code",
    "id": "FG5ZtYlmTf1S"
   },
   "outputs": [],
   "source": [
    "# Create some wrappers for simplicity\n",
    "def conv2d(x, W, b, strides=1):\n",
    "    # Conv2D wrapper, with bias and relu activation\n",
    "    x = tf.nn.conv2d(x, W, strides=[1, strides, strides, 1], padding='SAME')\n",
    "    x = tf.nn.bias_add(x, b)\n",
    "    return tf.nn.relu(x)\n",
    "\n",
    "def maxpool2d(x, k=2):\n",
    "    return tf.nn.max_pool(x, ksize=[1, k, k, 1], strides=[1, k, k, 1],\n",
    "                          padding='SAME')\n",
    "\n",
    "def avgpool2d(x, k=2):\n",
    "    return tf.nn.avg_pool(x, ksize=[1, k, k, 1], strides=[1, k, k, 1],\n",
    "                          padding='SAME')"
   ]
  },
  {
   "cell_type": "markdown",
   "metadata": {
    "colab_type": "text",
    "id": "yUZB5Q7KTf1U"
   },
   "source": [
    "#### Weights/Model functions:"
   ]
  },
  {
   "cell_type": "code",
   "execution_count": null,
   "metadata": {
    "colab": {
     "autoexec": {
      "startup": false,
      "wait_interval": 0
     }
    },
    "colab_type": "code",
    "id": "9deTSu_OTf1V"
   },
   "outputs": [],
   "source": [
    "# def Weights(name):\n",
    "#     return tf.get_variable(name,dtype=tf.float32,shape=weights[name],initializer=tf.contrib.layers.xavier_initializer())\n",
    "\n",
    "# updated for tensorflow 2\n",
    "def Weights(name):\n",
    "    return tf.get_variable(name,dtype=tf.float32,shape=weights[name],initializer=tf.initializers.glorot_uniform())\n",
    "\n",
    "\n",
    "\n",
    "def Biases(name):\n",
    "    return tf.get_variable(name,dtype=tf.float32,initializer=tf.zeros(biases[name]))\n",
    "       \n",
    "# Create CNN model\n",
    "def CNN(x,dropout):\n",
    "    # Reshape input picture\n",
    "    x = tf.reshape(x, shape=[-1, 224, 224, 3])\n",
    "\n",
    "\n",
    "    conv1 = conv2d(x, Weights('wc1'), Biases('bc1'), strides=4)\n",
    "    conv1 = tf.nn.relu(conv1)\n",
    "    conv1 = maxpool2d(conv1, k=2)\n",
    "    \n",
    "    conv2 = conv2d(conv1, Weights('wc2'), Biases('bc2'))\n",
    "    conv2 = tf.nn.relu(conv2)\n",
    "    conv2 = maxpool2d(conv2, k=2)\n",
    "    \n",
    "    conv3 = conv2d(conv2, Weights('wc3'), Biases('bc3'))\n",
    "    conv3 = tf.nn.relu(conv3)\n",
    "    \n",
    "    conv4 = conv2d(conv3, Weights('wc4'), Biases('bc4'))\n",
    "    conv4 = tf.nn.relu(conv4)\n",
    "    \n",
    "    conv5 = conv2d(conv4, Weights('wc5'), Biases('bc5'))\n",
    "    conv5 = tf.nn.relu(conv5)\n",
    "    conv5 = maxpool2d(conv5, k=2)\n",
    "\n",
    "    fc1 = tf.reshape(conv5, [-1,weights['wd1'][0]])\n",
    "    fc1 = tf.add(tf.matmul(fc1, Weights('wd1')), Biases('bd1'))\n",
    "    fc1 = tf.nn.relu(fc1)\n",
    "    fc1 = tf.nn.dropout(fc1, dropout)\n",
    "    \n",
    "    fc2 = tf.add(tf.matmul(fc1, Weights('wd2')), Biases('bd2'))\n",
    "    fc2 = tf.nn.relu(fc2)\n",
    "    fc2 = tf.nn.dropout(fc2, dropout)\n",
    "    \n",
    "    fc3 = tf.add(tf.matmul(fc2, Weights('wd3')), Biases('bd3'))\n",
    "    \n",
    "    return fc3"
   ]
  },
  {
   "cell_type": "markdown",
   "metadata": {
    "colab_type": "text",
    "id": "IF0U6Rf3Tf1Y"
   },
   "source": [
    "#### Evaluation Functions:"
   ]
  },
  {
   "cell_type": "code",
   "execution_count": null,
   "metadata": {
    "colab": {
     "autoexec": {
      "startup": false,
      "wait_interval": 0
     }
    },
    "colab_type": "code",
    "id": "zqSOqO5UTf1Z"
   },
   "outputs": [],
   "source": [
    "def AUC(train,test,U,I):\n",
    "    ans=0\n",
    "    cc=0\n",
    "    for u in train:    \n",
    "        i=test[u][0][b'productid']\n",
    "        T=np.dot(U[u,:],I.T)\n",
    "        cc+=1\n",
    "        M=set()      \n",
    "        for item in train[u]:\n",
    "            M.add(item[b'productid'])\n",
    "        M.add(i)\n",
    "            \n",
    "        count=0\n",
    "        tmpans=0\n",
    "        #for j in xrange(itemnum):\n",
    "        for j in random.sample(range(itemnum),100): #sample\n",
    "            if j in M: continue\n",
    "            if T[i]>T[j]: tmpans+=1\n",
    "            count+=1\n",
    "        tmpans/=float(count)\n",
    "        ans+=tmpans\n",
    "    ans/=float(cc)\n",
    "    return ans\n",
    "\n",
    "def Evaluation(step):\n",
    "    #print '...'\n",
    "    U=sess.run(thetau)\n",
    "    I=np.zeros([itemnum,K],dtype=np.float32)\n",
    "    idx=np.array_split(range(itemnum),(itemnum+batch_size-1)/batch_size)\n",
    "    \n",
    "    input_images=np.zeros([batch_size,224,224,3],dtype=np.int8)\n",
    "    for i in range(len(idx)):\n",
    "        cc=0\n",
    "        for j in idx[i]:\n",
    "            input_images[cc]=np.uint8(np.asarray(Image.open(BytesIO(Item[j][b'imgs'])).convert('RGB').resize((224,224))))\n",
    "            cc+=1\n",
    "        I[idx[i][0]:(idx[i][-1]+1)]=sess.run(result_test,feed_dict={image_test:input_images})[:(idx[i][-1]-idx[i][0]+1)]\n",
    "    #print 'export finised!'\n",
    "    np.save('UI_'+str(K)+'_'+str(step)+'.npy',[U,I])\n",
    "    return AUC(user_train,user_validation,U,I), AUC(user_train,user_test,U,I)\n",
    "\n",
    "def sample(user):\n",
    "    u = random.randrange(usernum)\n",
    "    numu = len(user[u])\n",
    "    i = user[u][random.randrange(numu)][b'productid']\n",
    "    M=set()\n",
    "    for item in user[u]:\n",
    "        M.add(item[b'productid'])\n",
    "    while True:\n",
    "        j=random.randrange(itemnum)\n",
    "        if (not j in M): break\n",
    "    return (u,i,j)\n",
    "\n",
    "# for a randomly selected user \"uuu\" select item \"iii\" user has expressed preference for \n",
    "# and item \"jjj\" user hasn't seen\n",
    "\n",
    "def load_image_async():\n",
    "    while True:\n",
    "        (uuu,iii,jjj)=sample(user_train)\n",
    "        jpg1=np.uint8(np.asarray(Image.open(BytesIO(Item[iii][b'imgs'])).convert('RGB').resize((224,224))))\n",
    "        jpg2=np.uint8(np.asarray(Image.open(BytesIO(Item[jjj][b'imgs'])).convert('RGB').resize((224,224))))\n",
    "        sess.run(batch_train_queue_op,feed_dict={queueu:np.asarray([uuu]),\n",
    "                                                 queuei:np.asarray([iii]),\n",
    "                                                 queuej:np.asarray([jjj]),\n",
    "                                                 queueimage1:jpg1,queueimage2:jpg2,\n",
    "                                                })"
   ]
  },
  {
   "cell_type": "markdown",
   "metadata": {
    "colab_type": "text",
    "id": "qZQzojD0Tf1b"
   },
   "source": [
    "## Weights/Biases:"
   ]
  },
  {
   "cell_type": "code",
   "execution_count": null,
   "metadata": {
    "colab": {
     "autoexec": {
      "startup": false,
      "wait_interval": 0
     }
    },
    "colab_type": "code",
    "id": "ohUDucDgTf1c"
   },
   "outputs": [],
   "source": [
    "weights = {\n",
    "    'wc1': [11, 11, 3, 64],\n",
    "    'wc2': [5, 5, 64, 256],\n",
    "    'wc3': [3, 3, 256, 256],\n",
    "    'wc4': [3, 3, 256, 256],\n",
    "    'wc5': [3, 3, 256, 256],    \n",
    "    'wd1': [7*7*256, 4096],\n",
    "    'wd2': [4096, 4096],\n",
    "    'wd3': [4096, K],\n",
    "}\n",
    "\n",
    "biases = {\n",
    "    'bc1': [64],\n",
    "    'bc2': [256],\n",
    "    'bc3': [256],\n",
    "    'bc4': [256],\n",
    "    'bc5': [256],\n",
    "    'bd1': [4096],\n",
    "    'bd2': [4096],\n",
    "    'bd3': [K],\n",
    "}\n"
   ]
  },
  {
   "cell_type": "markdown",
   "metadata": {
    "colab_type": "text",
    "id": "_g5vj9JsTf1h"
   },
   "source": [
    "## Define model:"
   ]
  },
  {
   "cell_type": "code",
   "execution_count": null,
   "metadata": {
    "colab": {
     "autoexec": {
      "startup": false,
      "wait_interval": 0
     },
     "base_uri": "https://localhost:8080/",
     "height": 88
    },
    "colab_type": "code",
    "executionInfo": {
     "elapsed": 8419,
     "status": "ok",
     "timestamp": 1532560408337,
     "user": {
      "displayName": "Scot Shields Jr.",
      "photoUrl": "https://lh3.googleusercontent.com/a/default-user=s128",
      "userId": "103896669029024009118"
     },
     "user_tz": 420
    },
    "id": "T6gsAKWzTf1i",
    "outputId": "98e44a6e-8269-41c2-deeb-8c3e36dbfa80"
   },
   "outputs": [],
   "source": [
    "#define model\n",
    "\n",
    "\n",
    "with tf.device('/gpu:0'):\n",
    "    #training sample\n",
    "    queueu = tf.placeholder(dtype=tf.int32,shape=[1])\n",
    "    queuei = tf.placeholder(dtype=tf.int32,shape=[1])\n",
    "    queuej = tf.placeholder(dtype=tf.int32,shape=[1])\n",
    "    queueimage1 = tf.placeholder(dtype=tf.uint8,shape=[224,224,3])\n",
    "    queueimage2 = tf.placeholder(dtype=tf.uint8,shape=[224,224,3])\n",
    "    batch_train_queue = tf.FIFOQueue(batch_size*5, dtypes=[tf.int32,tf.int32,tf.int32,tf.uint8,tf.uint8], shapes=[[1],[1],[1],[224,224,3],[224,224,3]])\n",
    "    batch_train_queue_op = batch_train_queue.enqueue([queueu,queuei,queuej,queueimage1,queueimage2]);\n",
    "    u,i,j,image1,image2 = batch_train_queue.dequeue_many(batch_size)\n",
    "\n",
    "    image_test=tf.placeholder(dtype=tf.uint8,shape=[batch_size,224,224,3])\n",
    "    \n",
    "    image1=(tf.to_float(image1)-127.5)/127.5\n",
    "    image2=(tf.to_float(image2)-127.5)/127.5\n",
    "    _image_test=(tf.to_float(image_test)-127.5)/127.5\n",
    "\n",
    "    u=tf.reshape(u,shape=[batch_size])\n",
    "    i=tf.reshape(i,shape=[batch_size])\n",
    "    j=tf.reshape(j,shape=[batch_size])\n",
    "    \n",
    "    keep_prob = tf.placeholder(tf.float32) #dropout (keep probability)\n",
    "\n",
    "    #siamese networks\n",
    "    with tf.variable_scope(\"DVBPR\") as scope:\n",
    "        result1 = CNN(image1,dropout)\n",
    "        scope.reuse_variables()\n",
    "        result2 = CNN(image2,dropout)\n",
    "        result_test = CNN(_image_test,1.0)\n",
    "        nn_regularizers = sum(map(tf.nn.l2_loss,[Weights('wd1'), Weights('wd2'), Weights('wd3'), Weights('wc1'), Weights('wc2'), Weights('wc3'), Weights('wc4'), Weights('wc5')]))\n",
    "        thetau = tf.Variable(tf.random_uniform([usernum,K],minval=0,maxval=1)/100)\n",
    "   \n",
    "    # BPR Optimization process\n",
    "    cost_train = tf.reduce_sum(tf.log(tf.sigmoid(tf.reduce_sum(tf.multiply(tf.gather(thetau,u),tf.subtract(result1,result2)),1,keep_dims=True))))\n",
    "    regularizers = tf.nn.l2_loss(tf.gather(thetau,u))\n",
    "    cost_train -= lambda1 * nn_regularizers + lambda2 * regularizers\n",
    "    optimizer = tf.train.AdamOptimizer(learning_rate=learning_rate).minimize(-cost_train)  "
   ]
  },
  {
   "cell_type": "markdown",
   "metadata": {
    "colab_type": "text",
    "id": "rp9-w3z8Tf1l"
   },
   "source": [
    "## Initializing the variables:"
   ]
  },
  {
   "cell_type": "code",
   "execution_count": null,
   "metadata": {
    "colab": {
     "autoexec": {
      "startup": false,
      "wait_interval": 0
     },
     "base_uri": "https://localhost:8080/",
     "height": 88
    },
    "colab_type": "code",
    "executionInfo": {
     "elapsed": 295,
     "status": "ok",
     "timestamp": 1532560423052,
     "user": {
      "displayName": "Scot Shields Jr.",
      "photoUrl": "https://lh3.googleusercontent.com/a/default-user=s128",
      "userId": "103896669029024009118"
     },
     "user_tz": 420
    },
    "id": "Be4sMI3ITf1l",
    "outputId": "1b752027-7194-44a5-fd39-63a613ebac38"
   },
   "outputs": [],
   "source": [
    "# Initializing the variables\n",
    "# init = tf.initialize_all_variables()\n",
    "\n",
    "init = tf.global_variables_initializer()"
   ]
  },
  {
   "cell_type": "markdown",
   "metadata": {
    "colab_type": "text",
    "id": "UpLd6YD3Tf1n"
   },
   "source": [
    "## Training Model:"
   ]
  },
  {
   "cell_type": "code",
   "execution_count": null,
   "metadata": {
    "colab": {
     "autoexec": {
      "startup": false,
      "wait_interval": 0
     },
     "base_uri": "https://localhost:8080/",
     "height": 15895
    },
    "colab_type": "code",
    "id": "-4l3LuzkTf1p",
    "outputId": "aa79f105-360b-48a3-f7c4-eb771b14d44c"
   },
   "outputs": [],
   "source": [
    "f=open('DVBPR.log','w')\n",
    "config = tf.ConfigProto(log_device_placement=False,allow_soft_placement=True)\n",
    "\n",
    "sess=tf.Session(config=config)\n",
    "sess.run(init)\n",
    "\n",
    "\n",
    "\n",
    "\n",
    "t=[0]*numldprocess\n",
    "for i in range(numldprocess):\n",
    "    t[i] = threading.Thread(target=load_image_async)\n",
    "    t[i].daemon=True\n",
    "    t[i].start()\n",
    "\n",
    "oneiteration = 0\n",
    "\n",
    "\n",
    "for item in user_train: oneiteration+=len(user_train[item])\n",
    "\n",
    "step = 1\n",
    "saver = tf.train.Saver([k for k in tf.global_variables() if k.name.startswith('DVBPR')])\n",
    "\n",
    "epoch=0\n",
    "while step * batch_size <= training_epoch*oneiteration+1:\n",
    "\n",
    "    sess.run(optimizer, feed_dict={keep_prob: dropout})\n",
    "    \n",
    "    print('Step#'+str(step)+' CNN update')\n",
    "\n",
    "    if step*batch_size / oneiteration >epoch:\n",
    "        epoch+=1\n",
    "        saver.save(sess,'./DVBPR_auc_'+str(K)+'_'+str(step)+'.ckpt')\n",
    "        auc_valid,auc_test=Evaluation(step)\n",
    "        print('Epoch #'+str(epoch)+':'+str(auc_test)+' '+str(auc_valid)+'\\n')\n",
    "        f.write('Epoch #'+str(epoch)+':'+str(auc_test)+' '+str(auc_valid)+'\\n')\n",
    "        f.flush()\n",
    "    \n",
    "    step += 1\n",
    "print(\"Optimization Finished!\")"
   ]
  },
  {
   "cell_type": "code",
   "execution_count": null,
   "metadata": {
    "colab": {
     "autoexec": {
      "startup": false,
      "wait_interval": 0
     }
    },
    "colab_type": "code",
    "id": "HYwx3dnSTf1q"
   },
   "outputs": [],
   "source": []
  }
 ],
 "metadata": {
  "accelerator": "GPU",
  "colab": {
   "default_view": {},
   "name": "CL_Train_Pref_Predictor.ipynb",
   "provenance": [],
   "version": "0.3.2",
   "views": {}
  },
  "kernelspec": {
   "display_name": "Python [conda env:tf-gpu]",
   "language": "python",
   "name": "conda-env-tf-gpu-py"
  },
  "language_info": {
   "codemirror_mode": {
    "name": "ipython",
    "version": 3
   },
   "file_extension": ".py",
   "mimetype": "text/x-python",
   "name": "python",
   "nbconvert_exporter": "python",
   "pygments_lexer": "ipython3",
   "version": "3.8.5"
  }
 },
 "nbformat": 4,
 "nbformat_minor": 1
}
